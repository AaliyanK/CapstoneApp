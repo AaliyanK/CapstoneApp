{
  "nbformat": 4,
  "nbformat_minor": 0,
  "metadata": {
    "colab": {
      "provenance": []
    },
    "kernelspec": {
      "name": "python3",
      "display_name": "Python 3"
    },
    "language_info": {
      "name": "python"
    }
  },
  "cells": [
    {
      "cell_type": "code",
      "execution_count": null,
      "metadata": {
        "id": "tVTEZNS24TWq"
      },
      "outputs": [],
      "source": [
        "# Importing Libraries\n",
        "from matplotlib import colors \n",
        "from matplotlib.ticker import PercentFormatter \n",
        "import numpy as np \n",
        "import matplotlib.pyplot as plt \n",
        "import pandas as pd\n",
        "from scipy.integrate import solve_ivp\n",
        "import scipy.optimize as opt\n",
        "import math\n",
        "import statistics as st"
      ]
    },
    {
      "cell_type": "code",
      "source": [
        "## Trial Conditions \n",
        "global gluecose \n",
        "gluecose = 20 #g\n",
        "yeast_extract = 20 #g\n",
        "peptone = 10 #g"
      ],
      "metadata": {
        "id": "4-EHNLdX4W-a"
      },
      "execution_count": 1,
      "outputs": []
    },
    {
      "cell_type": "code",
      "source": [
        "# Import Data\n",
        "from google.colab import files\n",
        "uploaded = files.upload()"
      ],
      "metadata": {
        "colab": {
          "base_uri": "https://localhost:8080/",
          "height": 73
        },
        "id": "DP24D-FM4h7F",
        "outputId": "45eaa95f-1223-4bcf-c09a-23ffde4a3861"
      },
      "execution_count": null,
      "outputs": [
        {
          "output_type": "display_data",
          "data": {
            "text/plain": [
              "<IPython.core.display.HTML object>"
            ],
            "text/html": [
              "\n",
              "     <input type=\"file\" id=\"files-ea6a2276-a5de-4c1e-8cbc-38126cd9c3a6\" name=\"files[]\" multiple disabled\n",
              "        style=\"border:none\" />\n",
              "     <output id=\"result-ea6a2276-a5de-4c1e-8cbc-38126cd9c3a6\">\n",
              "      Upload widget is only available when the cell has been executed in the\n",
              "      current browser session. Please rerun this cell to enable.\n",
              "      </output>\n",
              "      <script>// Copyright 2017 Google LLC\n",
              "//\n",
              "// Licensed under the Apache License, Version 2.0 (the \"License\");\n",
              "// you may not use this file except in compliance with the License.\n",
              "// You may obtain a copy of the License at\n",
              "//\n",
              "//      http://www.apache.org/licenses/LICENSE-2.0\n",
              "//\n",
              "// Unless required by applicable law or agreed to in writing, software\n",
              "// distributed under the License is distributed on an \"AS IS\" BASIS,\n",
              "// WITHOUT WARRANTIES OR CONDITIONS OF ANY KIND, either express or implied.\n",
              "// See the License for the specific language governing permissions and\n",
              "// limitations under the License.\n",
              "\n",
              "/**\n",
              " * @fileoverview Helpers for google.colab Python module.\n",
              " */\n",
              "(function(scope) {\n",
              "function span(text, styleAttributes = {}) {\n",
              "  const element = document.createElement('span');\n",
              "  element.textContent = text;\n",
              "  for (const key of Object.keys(styleAttributes)) {\n",
              "    element.style[key] = styleAttributes[key];\n",
              "  }\n",
              "  return element;\n",
              "}\n",
              "\n",
              "// Max number of bytes which will be uploaded at a time.\n",
              "const MAX_PAYLOAD_SIZE = 100 * 1024;\n",
              "\n",
              "function _uploadFiles(inputId, outputId) {\n",
              "  const steps = uploadFilesStep(inputId, outputId);\n",
              "  const outputElement = document.getElementById(outputId);\n",
              "  // Cache steps on the outputElement to make it available for the next call\n",
              "  // to uploadFilesContinue from Python.\n",
              "  outputElement.steps = steps;\n",
              "\n",
              "  return _uploadFilesContinue(outputId);\n",
              "}\n",
              "\n",
              "// This is roughly an async generator (not supported in the browser yet),\n",
              "// where there are multiple asynchronous steps and the Python side is going\n",
              "// to poll for completion of each step.\n",
              "// This uses a Promise to block the python side on completion of each step,\n",
              "// then passes the result of the previous step as the input to the next step.\n",
              "function _uploadFilesContinue(outputId) {\n",
              "  const outputElement = document.getElementById(outputId);\n",
              "  const steps = outputElement.steps;\n",
              "\n",
              "  const next = steps.next(outputElement.lastPromiseValue);\n",
              "  return Promise.resolve(next.value.promise).then((value) => {\n",
              "    // Cache the last promise value to make it available to the next\n",
              "    // step of the generator.\n",
              "    outputElement.lastPromiseValue = value;\n",
              "    return next.value.response;\n",
              "  });\n",
              "}\n",
              "\n",
              "/**\n",
              " * Generator function which is called between each async step of the upload\n",
              " * process.\n",
              " * @param {string} inputId Element ID of the input file picker element.\n",
              " * @param {string} outputId Element ID of the output display.\n",
              " * @return {!Iterable<!Object>} Iterable of next steps.\n",
              " */\n",
              "function* uploadFilesStep(inputId, outputId) {\n",
              "  const inputElement = document.getElementById(inputId);\n",
              "  inputElement.disabled = false;\n",
              "\n",
              "  const outputElement = document.getElementById(outputId);\n",
              "  outputElement.innerHTML = '';\n",
              "\n",
              "  const pickedPromise = new Promise((resolve) => {\n",
              "    inputElement.addEventListener('change', (e) => {\n",
              "      resolve(e.target.files);\n",
              "    });\n",
              "  });\n",
              "\n",
              "  const cancel = document.createElement('button');\n",
              "  inputElement.parentElement.appendChild(cancel);\n",
              "  cancel.textContent = 'Cancel upload';\n",
              "  const cancelPromise = new Promise((resolve) => {\n",
              "    cancel.onclick = () => {\n",
              "      resolve(null);\n",
              "    };\n",
              "  });\n",
              "\n",
              "  // Wait for the user to pick the files.\n",
              "  const files = yield {\n",
              "    promise: Promise.race([pickedPromise, cancelPromise]),\n",
              "    response: {\n",
              "      action: 'starting',\n",
              "    }\n",
              "  };\n",
              "\n",
              "  cancel.remove();\n",
              "\n",
              "  // Disable the input element since further picks are not allowed.\n",
              "  inputElement.disabled = true;\n",
              "\n",
              "  if (!files) {\n",
              "    return {\n",
              "      response: {\n",
              "        action: 'complete',\n",
              "      }\n",
              "    };\n",
              "  }\n",
              "\n",
              "  for (const file of files) {\n",
              "    const li = document.createElement('li');\n",
              "    li.append(span(file.name, {fontWeight: 'bold'}));\n",
              "    li.append(span(\n",
              "        `(${file.type || 'n/a'}) - ${file.size} bytes, ` +\n",
              "        `last modified: ${\n",
              "            file.lastModifiedDate ? file.lastModifiedDate.toLocaleDateString() :\n",
              "                                    'n/a'} - `));\n",
              "    const percent = span('0% done');\n",
              "    li.appendChild(percent);\n",
              "\n",
              "    outputElement.appendChild(li);\n",
              "\n",
              "    const fileDataPromise = new Promise((resolve) => {\n",
              "      const reader = new FileReader();\n",
              "      reader.onload = (e) => {\n",
              "        resolve(e.target.result);\n",
              "      };\n",
              "      reader.readAsArrayBuffer(file);\n",
              "    });\n",
              "    // Wait for the data to be ready.\n",
              "    let fileData = yield {\n",
              "      promise: fileDataPromise,\n",
              "      response: {\n",
              "        action: 'continue',\n",
              "      }\n",
              "    };\n",
              "\n",
              "    // Use a chunked sending to avoid message size limits. See b/62115660.\n",
              "    let position = 0;\n",
              "    do {\n",
              "      const length = Math.min(fileData.byteLength - position, MAX_PAYLOAD_SIZE);\n",
              "      const chunk = new Uint8Array(fileData, position, length);\n",
              "      position += length;\n",
              "\n",
              "      const base64 = btoa(String.fromCharCode.apply(null, chunk));\n",
              "      yield {\n",
              "        response: {\n",
              "          action: 'append',\n",
              "          file: file.name,\n",
              "          data: base64,\n",
              "        },\n",
              "      };\n",
              "\n",
              "      let percentDone = fileData.byteLength === 0 ?\n",
              "          100 :\n",
              "          Math.round((position / fileData.byteLength) * 100);\n",
              "      percent.textContent = `${percentDone}% done`;\n",
              "\n",
              "    } while (position < fileData.byteLength);\n",
              "  }\n",
              "\n",
              "  // All done.\n",
              "  yield {\n",
              "    response: {\n",
              "      action: 'complete',\n",
              "    }\n",
              "  };\n",
              "}\n",
              "\n",
              "scope.google = scope.google || {};\n",
              "scope.google.colab = scope.google.colab || {};\n",
              "scope.google.colab._files = {\n",
              "  _uploadFiles,\n",
              "  _uploadFilesContinue,\n",
              "};\n",
              "})(self);\n",
              "</script> "
            ]
          },
          "metadata": {}
        },
        {
          "output_type": "stream",
          "name": "stdout",
          "text": [
            "Saving 19122022.xlsx to 19122022.xlsx\n"
          ]
        }
      ]
    },
    {
      "cell_type": "code",
      "source": [
        "trial_1 = pd.read_excel('19122022.xlsx')\n",
        "trial_1"
      ],
      "metadata": {
        "colab": {
          "base_uri": "https://localhost:8080/",
          "height": 519
        },
        "id": "2IKE0Wup4kx3",
        "outputId": "468c2388-b127-4abe-8368-03d9d5c5f267"
      },
      "execution_count": null,
      "outputs": [
        {
          "output_type": "execute_result",
          "data": {
            "text/plain": [
              "       Unnamed: 0                                  Unnamed: 1 Unnamed: 2  \\\n",
              "0             NaN  Biocal_12192022: Data Log All Items Report        NaN   \n",
              "1             NaN                                         NaN        NaN   \n",
              "2             NaN                                         NaN        NaN   \n",
              "3      Time Stamp                                         NaN  Loop Name   \n",
              "4             NaN                                         NaN        NaN   \n",
              "...           ...                                         ...        ...   \n",
              "30000    24:55:28                                         NaN      pH_1M   \n",
              "30001    24:55:28                                         NaN   Pump1_1M   \n",
              "30002    24:55:28                                         NaN   Pump2_1M   \n",
              "30003    24:55:28                                         NaN   Pump3_1M   \n",
              "30004    24:55:28                                         NaN    Temp_1M   \n",
              "\n",
              "       Unnamed: 3 Unnamed: 4  Unnamed: 5     Unnamed: 6  Unnamed: 7  \\\n",
              "0             NaN        NaN         NaN            NaN         NaN   \n",
              "1             NaN        NaN         NaN            NaN         NaN   \n",
              "2             NaN        NaN         NaN            NaN         NaN   \n",
              "3             NaN   Setpoint         NaN  Process value         NaN   \n",
              "4             NaN        NaN         NaN            NaN         NaN   \n",
              "...           ...        ...         ...            ...         ...   \n",
              "30000         NaN          7         NaN        5.05355         NaN   \n",
              "30001         NaN          0         NaN              0         NaN   \n",
              "30002         NaN          0         NaN              0         NaN   \n",
              "30003         NaN          0         NaN              0         NaN   \n",
              "30004         NaN         30         NaN      25.120859         NaN   \n",
              "\n",
              "      Unnamed: 8  Unnamed: 9 Unnamed: 10  Unnamed: 11 Unnamed: 12  \n",
              "0            NaN         NaN         NaN          NaN         NaN  \n",
              "1            NaN         NaN         NaN          NaN         NaN  \n",
              "2            NaN         NaN         NaN          NaN         NaN  \n",
              "3         Output         NaN        Mode          NaN       Units  \n",
              "4            NaN         NaN         NaN          NaN         NaN  \n",
              "...          ...         ...         ...          ...         ...  \n",
              "30000          0         NaN         Off          NaN          pH  \n",
              "30001          0         NaN         Off          NaN           %  \n",
              "30002          0         NaN         Off          NaN           %  \n",
              "30003          0         NaN         Off          NaN           %  \n",
              "30004          0         NaN         Off          NaN        DegC  \n",
              "\n",
              "[30005 rows x 13 columns]"
            ],
            "text/html": [
              "\n",
              "  <div id=\"df-c0143b80-2fb3-4550-924b-67d4be336520\">\n",
              "    <div class=\"colab-df-container\">\n",
              "      <div>\n",
              "<style scoped>\n",
              "    .dataframe tbody tr th:only-of-type {\n",
              "        vertical-align: middle;\n",
              "    }\n",
              "\n",
              "    .dataframe tbody tr th {\n",
              "        vertical-align: top;\n",
              "    }\n",
              "\n",
              "    .dataframe thead th {\n",
              "        text-align: right;\n",
              "    }\n",
              "</style>\n",
              "<table border=\"1\" class=\"dataframe\">\n",
              "  <thead>\n",
              "    <tr style=\"text-align: right;\">\n",
              "      <th></th>\n",
              "      <th>Unnamed: 0</th>\n",
              "      <th>Unnamed: 1</th>\n",
              "      <th>Unnamed: 2</th>\n",
              "      <th>Unnamed: 3</th>\n",
              "      <th>Unnamed: 4</th>\n",
              "      <th>Unnamed: 5</th>\n",
              "      <th>Unnamed: 6</th>\n",
              "      <th>Unnamed: 7</th>\n",
              "      <th>Unnamed: 8</th>\n",
              "      <th>Unnamed: 9</th>\n",
              "      <th>Unnamed: 10</th>\n",
              "      <th>Unnamed: 11</th>\n",
              "      <th>Unnamed: 12</th>\n",
              "    </tr>\n",
              "  </thead>\n",
              "  <tbody>\n",
              "    <tr>\n",
              "      <th>0</th>\n",
              "      <td>NaN</td>\n",
              "      <td>Biocal_12192022: Data Log All Items Report</td>\n",
              "      <td>NaN</td>\n",
              "      <td>NaN</td>\n",
              "      <td>NaN</td>\n",
              "      <td>NaN</td>\n",
              "      <td>NaN</td>\n",
              "      <td>NaN</td>\n",
              "      <td>NaN</td>\n",
              "      <td>NaN</td>\n",
              "      <td>NaN</td>\n",
              "      <td>NaN</td>\n",
              "      <td>NaN</td>\n",
              "    </tr>\n",
              "    <tr>\n",
              "      <th>1</th>\n",
              "      <td>NaN</td>\n",
              "      <td>NaN</td>\n",
              "      <td>NaN</td>\n",
              "      <td>NaN</td>\n",
              "      <td>NaN</td>\n",
              "      <td>NaN</td>\n",
              "      <td>NaN</td>\n",
              "      <td>NaN</td>\n",
              "      <td>NaN</td>\n",
              "      <td>NaN</td>\n",
              "      <td>NaN</td>\n",
              "      <td>NaN</td>\n",
              "      <td>NaN</td>\n",
              "    </tr>\n",
              "    <tr>\n",
              "      <th>2</th>\n",
              "      <td>NaN</td>\n",
              "      <td>NaN</td>\n",
              "      <td>NaN</td>\n",
              "      <td>NaN</td>\n",
              "      <td>NaN</td>\n",
              "      <td>NaN</td>\n",
              "      <td>NaN</td>\n",
              "      <td>NaN</td>\n",
              "      <td>NaN</td>\n",
              "      <td>NaN</td>\n",
              "      <td>NaN</td>\n",
              "      <td>NaN</td>\n",
              "      <td>NaN</td>\n",
              "    </tr>\n",
              "    <tr>\n",
              "      <th>3</th>\n",
              "      <td>Time Stamp</td>\n",
              "      <td>NaN</td>\n",
              "      <td>Loop Name</td>\n",
              "      <td>NaN</td>\n",
              "      <td>Setpoint</td>\n",
              "      <td>NaN</td>\n",
              "      <td>Process value</td>\n",
              "      <td>NaN</td>\n",
              "      <td>Output</td>\n",
              "      <td>NaN</td>\n",
              "      <td>Mode</td>\n",
              "      <td>NaN</td>\n",
              "      <td>Units</td>\n",
              "    </tr>\n",
              "    <tr>\n",
              "      <th>4</th>\n",
              "      <td>NaN</td>\n",
              "      <td>NaN</td>\n",
              "      <td>NaN</td>\n",
              "      <td>NaN</td>\n",
              "      <td>NaN</td>\n",
              "      <td>NaN</td>\n",
              "      <td>NaN</td>\n",
              "      <td>NaN</td>\n",
              "      <td>NaN</td>\n",
              "      <td>NaN</td>\n",
              "      <td>NaN</td>\n",
              "      <td>NaN</td>\n",
              "      <td>NaN</td>\n",
              "    </tr>\n",
              "    <tr>\n",
              "      <th>...</th>\n",
              "      <td>...</td>\n",
              "      <td>...</td>\n",
              "      <td>...</td>\n",
              "      <td>...</td>\n",
              "      <td>...</td>\n",
              "      <td>...</td>\n",
              "      <td>...</td>\n",
              "      <td>...</td>\n",
              "      <td>...</td>\n",
              "      <td>...</td>\n",
              "      <td>...</td>\n",
              "      <td>...</td>\n",
              "      <td>...</td>\n",
              "    </tr>\n",
              "    <tr>\n",
              "      <th>30000</th>\n",
              "      <td>24:55:28</td>\n",
              "      <td>NaN</td>\n",
              "      <td>pH_1M</td>\n",
              "      <td>NaN</td>\n",
              "      <td>7</td>\n",
              "      <td>NaN</td>\n",
              "      <td>5.05355</td>\n",
              "      <td>NaN</td>\n",
              "      <td>0</td>\n",
              "      <td>NaN</td>\n",
              "      <td>Off</td>\n",
              "      <td>NaN</td>\n",
              "      <td>pH</td>\n",
              "    </tr>\n",
              "    <tr>\n",
              "      <th>30001</th>\n",
              "      <td>24:55:28</td>\n",
              "      <td>NaN</td>\n",
              "      <td>Pump1_1M</td>\n",
              "      <td>NaN</td>\n",
              "      <td>0</td>\n",
              "      <td>NaN</td>\n",
              "      <td>0</td>\n",
              "      <td>NaN</td>\n",
              "      <td>0</td>\n",
              "      <td>NaN</td>\n",
              "      <td>Off</td>\n",
              "      <td>NaN</td>\n",
              "      <td>%</td>\n",
              "    </tr>\n",
              "    <tr>\n",
              "      <th>30002</th>\n",
              "      <td>24:55:28</td>\n",
              "      <td>NaN</td>\n",
              "      <td>Pump2_1M</td>\n",
              "      <td>NaN</td>\n",
              "      <td>0</td>\n",
              "      <td>NaN</td>\n",
              "      <td>0</td>\n",
              "      <td>NaN</td>\n",
              "      <td>0</td>\n",
              "      <td>NaN</td>\n",
              "      <td>Off</td>\n",
              "      <td>NaN</td>\n",
              "      <td>%</td>\n",
              "    </tr>\n",
              "    <tr>\n",
              "      <th>30003</th>\n",
              "      <td>24:55:28</td>\n",
              "      <td>NaN</td>\n",
              "      <td>Pump3_1M</td>\n",
              "      <td>NaN</td>\n",
              "      <td>0</td>\n",
              "      <td>NaN</td>\n",
              "      <td>0</td>\n",
              "      <td>NaN</td>\n",
              "      <td>0</td>\n",
              "      <td>NaN</td>\n",
              "      <td>Off</td>\n",
              "      <td>NaN</td>\n",
              "      <td>%</td>\n",
              "    </tr>\n",
              "    <tr>\n",
              "      <th>30004</th>\n",
              "      <td>24:55:28</td>\n",
              "      <td>NaN</td>\n",
              "      <td>Temp_1M</td>\n",
              "      <td>NaN</td>\n",
              "      <td>30</td>\n",
              "      <td>NaN</td>\n",
              "      <td>25.120859</td>\n",
              "      <td>NaN</td>\n",
              "      <td>0</td>\n",
              "      <td>NaN</td>\n",
              "      <td>Off</td>\n",
              "      <td>NaN</td>\n",
              "      <td>DegC</td>\n",
              "    </tr>\n",
              "  </tbody>\n",
              "</table>\n",
              "<p>30005 rows × 13 columns</p>\n",
              "</div>\n",
              "      <button class=\"colab-df-convert\" onclick=\"convertToInteractive('df-c0143b80-2fb3-4550-924b-67d4be336520')\"\n",
              "              title=\"Convert this dataframe to an interactive table.\"\n",
              "              style=\"display:none;\">\n",
              "        \n",
              "  <svg xmlns=\"http://www.w3.org/2000/svg\" height=\"24px\"viewBox=\"0 0 24 24\"\n",
              "       width=\"24px\">\n",
              "    <path d=\"M0 0h24v24H0V0z\" fill=\"none\"/>\n",
              "    <path d=\"M18.56 5.44l.94 2.06.94-2.06 2.06-.94-2.06-.94-.94-2.06-.94 2.06-2.06.94zm-11 1L8.5 8.5l.94-2.06 2.06-.94-2.06-.94L8.5 2.5l-.94 2.06-2.06.94zm10 10l.94 2.06.94-2.06 2.06-.94-2.06-.94-.94-2.06-.94 2.06-2.06.94z\"/><path d=\"M17.41 7.96l-1.37-1.37c-.4-.4-.92-.59-1.43-.59-.52 0-1.04.2-1.43.59L10.3 9.45l-7.72 7.72c-.78.78-.78 2.05 0 2.83L4 21.41c.39.39.9.59 1.41.59.51 0 1.02-.2 1.41-.59l7.78-7.78 2.81-2.81c.8-.78.8-2.07 0-2.86zM5.41 20L4 18.59l7.72-7.72 1.47 1.35L5.41 20z\"/>\n",
              "  </svg>\n",
              "      </button>\n",
              "      \n",
              "  <style>\n",
              "    .colab-df-container {\n",
              "      display:flex;\n",
              "      flex-wrap:wrap;\n",
              "      gap: 12px;\n",
              "    }\n",
              "\n",
              "    .colab-df-convert {\n",
              "      background-color: #E8F0FE;\n",
              "      border: none;\n",
              "      border-radius: 50%;\n",
              "      cursor: pointer;\n",
              "      display: none;\n",
              "      fill: #1967D2;\n",
              "      height: 32px;\n",
              "      padding: 0 0 0 0;\n",
              "      width: 32px;\n",
              "    }\n",
              "\n",
              "    .colab-df-convert:hover {\n",
              "      background-color: #E2EBFA;\n",
              "      box-shadow: 0px 1px 2px rgba(60, 64, 67, 0.3), 0px 1px 3px 1px rgba(60, 64, 67, 0.15);\n",
              "      fill: #174EA6;\n",
              "    }\n",
              "\n",
              "    [theme=dark] .colab-df-convert {\n",
              "      background-color: #3B4455;\n",
              "      fill: #D2E3FC;\n",
              "    }\n",
              "\n",
              "    [theme=dark] .colab-df-convert:hover {\n",
              "      background-color: #434B5C;\n",
              "      box-shadow: 0px 1px 3px 1px rgba(0, 0, 0, 0.15);\n",
              "      filter: drop-shadow(0px 1px 2px rgba(0, 0, 0, 0.3));\n",
              "      fill: #FFFFFF;\n",
              "    }\n",
              "  </style>\n",
              "\n",
              "      <script>\n",
              "        const buttonEl =\n",
              "          document.querySelector('#df-c0143b80-2fb3-4550-924b-67d4be336520 button.colab-df-convert');\n",
              "        buttonEl.style.display =\n",
              "          google.colab.kernel.accessAllowed ? 'block' : 'none';\n",
              "\n",
              "        async function convertToInteractive(key) {\n",
              "          const element = document.querySelector('#df-c0143b80-2fb3-4550-924b-67d4be336520');\n",
              "          const dataTable =\n",
              "            await google.colab.kernel.invokeFunction('convertToInteractive',\n",
              "                                                     [key], {});\n",
              "          if (!dataTable) return;\n",
              "\n",
              "          const docLinkHtml = 'Like what you see? Visit the ' +\n",
              "            '<a target=\"_blank\" href=https://colab.research.google.com/notebooks/data_table.ipynb>data table notebook</a>'\n",
              "            + ' to learn more about interactive tables.';\n",
              "          element.innerHTML = '';\n",
              "          dataTable['output_type'] = 'display_data';\n",
              "          await google.colab.output.renderOutput(dataTable, element);\n",
              "          const docLink = document.createElement('div');\n",
              "          docLink.innerHTML = docLinkHtml;\n",
              "          element.appendChild(docLink);\n",
              "        }\n",
              "      </script>\n",
              "    </div>\n",
              "  </div>\n",
              "  "
            ]
          },
          "metadata": {},
          "execution_count": 4
        }
      ]
    },
    {
      "cell_type": "code",
      "source": [
        "# Set \"important_trial_x\" to the actual time that corresponds to the experiment\n",
        "# Check time stamp associated with the first \n",
        "# The time will be reindexed at the end\n",
        "\n",
        "important_trial_1 = trial_1[trial_1[\"Unnamed: 2\"] == \"Temp_1M\"][80:2490]\n",
        "time =important_trial_1['Unnamed: 0']\n",
        "temperature_output_trial_1 = important_trial_1['Unnamed: 8']\n",
        "actual_temperature_1 = important_trial_1['Unnamed: 4']\n",
        "plt.plot(temperature_output_trial_1)\n",
        "\n"
      ],
      "metadata": {
        "colab": {
          "base_uri": "https://localhost:8080/",
          "height": 283
        },
        "id": "ohOXWds96lnw",
        "outputId": "aa5f4282-77ca-4a54-a1cf-770a2e106ebc"
      },
      "execution_count": null,
      "outputs": [
        {
          "output_type": "execute_result",
          "data": {
            "text/plain": [
              "[<matplotlib.lines.Line2D at 0x7f016be546a0>]"
            ]
          },
          "metadata": {},
          "execution_count": 5
        },
        {
          "output_type": "display_data",
          "data": {
            "text/plain": [
              "<Figure size 432x288 with 1 Axes>"
            ],
            "image/png": "[encoded data removed]"
          },
          "metadata": {
            "needs_background": "light"
          }
        }
      ]
    },
    {
      "cell_type": "code",
      "source": [
        "# Now we need to replace the first section of the data with the equilibrium data \n",
        "# This is due to the fact that the reactor did not reach equilirbium before the expriement was started\n",
        "\n",
        "temperature_output_trial_1 = pd.DataFrame(temperature_output_trial_1)\n",
        "temperature_output_trial_1.reset_index(drop=True, inplace = True)\n",
        "baseline_data = temperature_output_trial_1[1500:2000]\n",
        "temperature_output_trial_1['Unnamed: 8'][0:500] = baseline_data['Unnamed: 8']\n",
        "datapoints = len(temperature_output_trial_1)"
      ],
      "metadata": {
        "id": "hNbn8NplK8lo"
      },
      "execution_count": null,
      "outputs": []
    },
    {
      "cell_type": "code",
      "source": [
        "plt.plot(temperature_output_trial_1)"
      ],
      "metadata": {
        "colab": {
          "base_uri": "https://localhost:8080/",
          "height": 283
        },
        "id": "iiiMRugG62Lr",
        "outputId": "37fcc094-ec03-4f20-a3b6-719c33257e56"
      },
      "execution_count": null,
      "outputs": [
        {
          "output_type": "execute_result",
          "data": {
            "text/plain": [
              "[<matplotlib.lines.Line2D at 0x7f016b38fa90>]"
            ]
          },
          "metadata": {},
          "execution_count": 17
        },
        {
          "output_type": "display_data",
          "data": {
            "text/plain": [
              "<Figure size 432x288 with 1 Axes>"
            ],
            "image/png": "[encoded data removed]"
          },
          "metadata": {
            "needs_background": "light"
          }
        }
      ]
    },
    {
      "cell_type": "code",
      "source": [
        "# Need to bring in a function that determines the growth parameters\n",
        "# Creates the growth curve\n",
        "# Used to get more datapoints to input into a machine learning algorithm rather then the actual data analysis \n",
        "\n",
        "def monod_eq(um, Ks, Kis, Y_xs, time):\n",
        "\n",
        "    def f(t,y):\n",
        "        A = y[0]\n",
        "        B = y[1]\n",
        "      \n",
        "        dA_dt = A*um*B/((Ks)+B+(B**2)/Kis)\n",
        "        dB_dt = -dA_dt/Y_xs\n",
        "\n",
        "        return np.array([dA_dt, dB_dt]) \n",
        "\n",
        "  \n",
        "    t_span = np.array([0,time])\n",
        "    times = np.linspace(t_span[0], t_span[1], datapoints)\n",
        " \n",
        "\n",
        "    # [Inital Cell Count (cells), Inital Gluecose (g)]\n",
        "    y0 = np.array([6.060e+09,gluecose])\n",
        "\n",
        "    soln = solve_ivp(f, t_span, y0, t_eval = times)\n",
        "    t = soln.t\n",
        "    A = soln.y[0]\n",
        "    B = soln.y[1]\n",
        "\n",
        "    df = pd.DataFrame(data = t,columns = ['t'] )\n",
        "    df['A'] = A\n",
        "    df['B'] = B\n",
        "\n",
        "    return df\n",
        "\n",
        "def monod_eq_learning(um, Ks, Kis, Y_xs):\n",
        "\n",
        "    time = 24\n",
        "    length = len(cells)\n",
        "    def f(t,y):\n",
        "        A = y[0]\n",
        "        B = y[1]\n",
        "      \n",
        "        dA_dt = A*um*B/((Ks)+B+(B**2)/Kis) \n",
        "        dB_dt = -dA_dt/Y_xs\n",
        "\n",
        "        return np.array([dA_dt, dB_dt]) \n",
        "\n",
        "  \n",
        "    #t_span = np.array([0,time])\n",
        "    #times = np.linspace(t_span[0], t_span[1], length)\n",
        " \n",
        "    times = time_growth\n",
        "    t_span = np.array([0,24])\n",
        "    # [Inital Cell Count (cells), Inital Gluecose (g)]\n",
        "    y0 = np.array([6.060e+09,gluecose])\n",
        "\n",
        "    soln = solve_ivp(f, t_span, y0, t_eval = times)\n",
        "    t = soln.t\n",
        "    A = soln.y[0]\n",
        "    B = soln.y[1]\n",
        "\n",
        "    df = pd.DataFrame(data = t,columns = ['t'] )\n",
        "    df['A'] = A\n",
        "    df['B'] = B\n",
        "\n",
        "    return df\n",
        "\n",
        "def Contois_eq(um, Ks, Y_xs, time):\n",
        "  \n",
        "    def f(t,y):\n",
        "        A = y[0]\n",
        "        B = y[1]\n",
        "      \n",
        "        dA_dt = A*um*B/(Ks*A+B)\n",
        "        dB_dt = -dA_dt/Y_xs\n",
        "\n",
        "        return np.array([dA_dt, dB_dt]) \n",
        "\n",
        "    t_span = np.array([0,time])\n",
        "    times = np.linspace(t_span[0], t_span[1], datapoints)\n",
        " \n",
        "\n",
        "    # [Inital Cell Count (cells), Inital Gluecose (g)]\n",
        "    y0 = np.array([6.060e+09,20])\n",
        "\n",
        "    soln = solve_ivp(f, t_span, y0, t_eval = times)\n",
        "    t = soln.t\n",
        "    A = soln.y[0]\n",
        "    B = soln.y[1]\n",
        "\n",
        "    df = pd.DataFrame(data = t,columns = ['t'] )\n",
        "    df['A'] = A\n",
        "    df['B'] = B\n",
        "\n",
        "    return df\n",
        "\n",
        "def Contois_eq_learning(um, Ks, Y_xs):\n",
        "\n",
        "    time = 24\n",
        "    length = len(cells)\n",
        "    def f(t,y):\n",
        "        A = y[0]\n",
        "        B = y[1]\n",
        "      \n",
        "        dA_dt = A*um*B/(Ks*A+B)\n",
        "        dB_dt = -dA_dt/Y_xs\n",
        "\n",
        "        return np.array([dA_dt, dB_dt]) \n",
        " \n",
        "    times = time_growth\n",
        "    t_span = np.array([times[0],int(times[8])])\n",
        "    # [Inital Cell Count (cells), Inital Gluecose (g)]\n",
        "    y0 = np.array([6.060e+09,20])\n",
        "\n",
        "    soln = solve_ivp(f, t_span, y0, t_eval = times)\n",
        "    t = soln.t\n",
        "    A = soln.y[0]\n",
        "    B = soln.y[1]\n",
        "\n",
        "    df = pd.DataFrame(data = t,columns = ['t'] )\n",
        "    df['A'] = A\n",
        "    df['B'] = B\n",
        "    \n",
        "\n",
        "    return df\n",
        "\n",
        "def squared_error(par):\n",
        "  # Start\n",
        "  #Monod : um, Ks, Kis, Y_xs, Kd\n",
        " \n",
        "    um = par[0]\n",
        "    Ks = par[1]\n",
        "    Kis = par[2]\n",
        "    Y_xs = par[3]\n",
        "    Kd = par[4]\n",
        "\n",
        "    training_set = monod_eq_learning(um, Ks, Kis, Y_xs, Kd)\n",
        "    test_set = cells\n",
        "\n",
        "    sse = 0\n",
        "\n",
        "    for i,row in training_set.iterrows():\n",
        "        sse = sse + (training_set.iloc[(i,1)] - test_set[i])**2\n",
        "        \n",
        "    return sse"
      ],
      "metadata": {
        "id": "xW-eoqVf8i6T"
      },
      "execution_count": null,
      "outputs": []
    },
    {
      "cell_type": "code",
      "source": [
        "# Use to determine the parameters of the growth equation\n",
        "# Note that it is common for this to not converge due to the limited amount of points in the original dataset\n",
        "# This is more for creating a machine learning dataset anyways \n",
        "\n",
        "#par_all = [um, Ks, Ysx, kd, time]\n",
        "par_all = [6.48649907e+00, 2.05454913e+02, 2.87936960e+00, 2.31474291e+09]\n",
        "\n",
        "\n",
        "#dataset = cells\n",
        "\n",
        "# Test points are defined as monod equaion\n",
        "#testpoints = monod_eq(um, Ks, Y_xs)\n",
        "\n",
        "s_error = lambda p: squared_error(p)\n",
        "solution = opt.minimize(s_error, par_all, method = 'Nelder-Mead', tol = 1e-6)\n",
        "#options = {'maxiter':4000}\n",
        "solution\n"
      ],
      "metadata": {
        "colab": {
          "base_uri": "https://localhost:8080/",
          "height": 400
        },
        "id": "X300s63j9bLm",
        "outputId": "f173cb31-dc4b-4e4b-c634-05b405c4f04c"
      },
      "execution_count": null,
      "outputs": [
        {
          "output_type": "error",
          "ename": "IndexError",
          "evalue": "ignored",
          "traceback": [
            "\u001b[0;31m---------------------------------------------------------------------------\u001b[0m",
            "\u001b[0;31mIndexError\u001b[0m                                Traceback (most recent call last)",
            "\u001b[0;32m<ipython-input-33-995d59ef6c89>\u001b[0m in \u001b[0;36m<module>\u001b[0;34m\u001b[0m\n\u001b[1;32m      9\u001b[0m \u001b[0;34m\u001b[0m\u001b[0m\n\u001b[1;32m     10\u001b[0m \u001b[0ms_error\u001b[0m \u001b[0;34m=\u001b[0m \u001b[0;32mlambda\u001b[0m \u001b[0mp\u001b[0m\u001b[0;34m:\u001b[0m \u001b[0msquared_error\u001b[0m\u001b[0;34m(\u001b[0m\u001b[0mp\u001b[0m\u001b[0;34m)\u001b[0m\u001b[0;34m\u001b[0m\u001b[0;34m\u001b[0m\u001b[0m\n\u001b[0;32m---> 11\u001b[0;31m \u001b[0msolution\u001b[0m \u001b[0;34m=\u001b[0m \u001b[0mopt\u001b[0m\u001b[0;34m.\u001b[0m\u001b[0mminimize\u001b[0m\u001b[0;34m(\u001b[0m\u001b[0ms_error\u001b[0m\u001b[0;34m,\u001b[0m \u001b[0mpar_all\u001b[0m\u001b[0;34m,\u001b[0m \u001b[0mmethod\u001b[0m \u001b[0;34m=\u001b[0m \u001b[0;34m'Nelder-Mead'\u001b[0m\u001b[0;34m,\u001b[0m \u001b[0mtol\u001b[0m \u001b[0;34m=\u001b[0m \u001b[0;36m1e-6\u001b[0m\u001b[0;34m)\u001b[0m\u001b[0;34m\u001b[0m\u001b[0;34m\u001b[0m\u001b[0m\n\u001b[0m\u001b[1;32m     12\u001b[0m \u001b[0;31m#options = {'maxiter':4000}\u001b[0m\u001b[0;34m\u001b[0m\u001b[0;34m\u001b[0m\u001b[0;34m\u001b[0m\u001b[0m\n\u001b[1;32m     13\u001b[0m \u001b[0msolution\u001b[0m\u001b[0;34m\u001b[0m\u001b[0;34m\u001b[0m\u001b[0m\n",
            "\u001b[0;32m/usr/local/lib/python3.8/dist-packages/scipy/optimize/_minimize.py\u001b[0m in \u001b[0;36mminimize\u001b[0;34m(fun, x0, args, method, jac, hess, hessp, bounds, constraints, tol, callback, options)\u001b[0m\n\u001b[1;32m    609\u001b[0m \u001b[0;34m\u001b[0m\u001b[0m\n\u001b[1;32m    610\u001b[0m     \u001b[0;32mif\u001b[0m \u001b[0mmeth\u001b[0m \u001b[0;34m==\u001b[0m \u001b[0;34m'nelder-mead'\u001b[0m\u001b[0;34m:\u001b[0m\u001b[0;34m\u001b[0m\u001b[0;34m\u001b[0m\u001b[0m\n\u001b[0;32m--> 611\u001b[0;31m         return _minimize_neldermead(fun, x0, args, callback, bounds=bounds,\n\u001b[0m\u001b[1;32m    612\u001b[0m                                     **options)\n\u001b[1;32m    613\u001b[0m     \u001b[0;32melif\u001b[0m \u001b[0mmeth\u001b[0m \u001b[0;34m==\u001b[0m \u001b[0;34m'powell'\u001b[0m\u001b[0;34m:\u001b[0m\u001b[0;34m\u001b[0m\u001b[0;34m\u001b[0m\u001b[0m\n",
            "\u001b[0;32m/usr/local/lib/python3.8/dist-packages/scipy/optimize/optimize.py\u001b[0m in \u001b[0;36m_minimize_neldermead\u001b[0;34m(func, x0, args, callback, maxiter, maxfev, disp, return_all, initial_simplex, xatol, fatol, adaptive, bounds, **unknown_options)\u001b[0m\n\u001b[1;32m    748\u001b[0m \u001b[0;34m\u001b[0m\u001b[0m\n\u001b[1;32m    749\u001b[0m     \u001b[0;32mfor\u001b[0m \u001b[0mk\u001b[0m \u001b[0;32min\u001b[0m \u001b[0mrange\u001b[0m\u001b[0;34m(\u001b[0m\u001b[0mN\u001b[0m \u001b[0;34m+\u001b[0m \u001b[0;36m1\u001b[0m\u001b[0;34m)\u001b[0m\u001b[0;34m:\u001b[0m\u001b[0;34m\u001b[0m\u001b[0;34m\u001b[0m\u001b[0m\n\u001b[0;32m--> 750\u001b[0;31m         \u001b[0mfsim\u001b[0m\u001b[0;34m[\u001b[0m\u001b[0mk\u001b[0m\u001b[0;34m]\u001b[0m \u001b[0;34m=\u001b[0m \u001b[0mfunc\u001b[0m\u001b[0;34m(\u001b[0m\u001b[0msim\u001b[0m\u001b[0;34m[\u001b[0m\u001b[0mk\u001b[0m\u001b[0;34m]\u001b[0m\u001b[0;34m)\u001b[0m\u001b[0;34m\u001b[0m\u001b[0;34m\u001b[0m\u001b[0m\n\u001b[0m\u001b[1;32m    751\u001b[0m \u001b[0;34m\u001b[0m\u001b[0m\n\u001b[1;32m    752\u001b[0m     \u001b[0mind\u001b[0m \u001b[0;34m=\u001b[0m \u001b[0mnp\u001b[0m\u001b[0;34m.\u001b[0m\u001b[0margsort\u001b[0m\u001b[0;34m(\u001b[0m\u001b[0mfsim\u001b[0m\u001b[0;34m)\u001b[0m\u001b[0;34m\u001b[0m\u001b[0;34m\u001b[0m\u001b[0m\n",
            "\u001b[0;32m/usr/local/lib/python3.8/dist-packages/scipy/optimize/optimize.py\u001b[0m in \u001b[0;36mfunction_wrapper\u001b[0;34m(x, *wrapper_args)\u001b[0m\n\u001b[1;32m    462\u001b[0m     \u001b[0;32mdef\u001b[0m \u001b[0mfunction_wrapper\u001b[0m\u001b[0;34m(\u001b[0m\u001b[0mx\u001b[0m\u001b[0;34m,\u001b[0m \u001b[0;34m*\u001b[0m\u001b[0mwrapper_args\u001b[0m\u001b[0;34m)\u001b[0m\u001b[0;34m:\u001b[0m\u001b[0;34m\u001b[0m\u001b[0;34m\u001b[0m\u001b[0m\n\u001b[1;32m    463\u001b[0m         \u001b[0mncalls\u001b[0m\u001b[0;34m[\u001b[0m\u001b[0;36m0\u001b[0m\u001b[0;34m]\u001b[0m \u001b[0;34m+=\u001b[0m \u001b[0;36m1\u001b[0m\u001b[0;34m\u001b[0m\u001b[0;34m\u001b[0m\u001b[0m\n\u001b[0;32m--> 464\u001b[0;31m         \u001b[0;32mreturn\u001b[0m \u001b[0mfunction\u001b[0m\u001b[0;34m(\u001b[0m\u001b[0mnp\u001b[0m\u001b[0;34m.\u001b[0m\u001b[0mcopy\u001b[0m\u001b[0;34m(\u001b[0m\u001b[0mx\u001b[0m\u001b[0;34m)\u001b[0m\u001b[0;34m,\u001b[0m \u001b[0;34m*\u001b[0m\u001b[0;34m(\u001b[0m\u001b[0mwrapper_args\u001b[0m \u001b[0;34m+\u001b[0m \u001b[0margs\u001b[0m\u001b[0;34m)\u001b[0m\u001b[0;34m)\u001b[0m\u001b[0;34m\u001b[0m\u001b[0;34m\u001b[0m\u001b[0m\n\u001b[0m\u001b[1;32m    465\u001b[0m \u001b[0;34m\u001b[0m\u001b[0m\n\u001b[1;32m    466\u001b[0m     \u001b[0;32mreturn\u001b[0m \u001b[0mncalls\u001b[0m\u001b[0;34m,\u001b[0m \u001b[0mfunction_wrapper\u001b[0m\u001b[0;34m\u001b[0m\u001b[0;34m\u001b[0m\u001b[0m\n",
            "\u001b[0;32m<ipython-input-33-995d59ef6c89>\u001b[0m in \u001b[0;36m<lambda>\u001b[0;34m(p)\u001b[0m\n\u001b[1;32m      8\u001b[0m \u001b[0;31m#testpoints = monod_eq(um, Ks, Y_xs)\u001b[0m\u001b[0;34m\u001b[0m\u001b[0;34m\u001b[0m\u001b[0;34m\u001b[0m\u001b[0m\n\u001b[1;32m      9\u001b[0m \u001b[0;34m\u001b[0m\u001b[0m\n\u001b[0;32m---> 10\u001b[0;31m \u001b[0ms_error\u001b[0m \u001b[0;34m=\u001b[0m \u001b[0;32mlambda\u001b[0m \u001b[0mp\u001b[0m\u001b[0;34m:\u001b[0m \u001b[0msquared_error\u001b[0m\u001b[0;34m(\u001b[0m\u001b[0mp\u001b[0m\u001b[0;34m)\u001b[0m\u001b[0;34m\u001b[0m\u001b[0;34m\u001b[0m\u001b[0m\n\u001b[0m\u001b[1;32m     11\u001b[0m \u001b[0msolution\u001b[0m \u001b[0;34m=\u001b[0m \u001b[0mopt\u001b[0m\u001b[0;34m.\u001b[0m\u001b[0mminimize\u001b[0m\u001b[0;34m(\u001b[0m\u001b[0ms_error\u001b[0m\u001b[0;34m,\u001b[0m \u001b[0mpar_all\u001b[0m\u001b[0;34m,\u001b[0m \u001b[0mmethod\u001b[0m \u001b[0;34m=\u001b[0m \u001b[0;34m'Nelder-Mead'\u001b[0m\u001b[0;34m,\u001b[0m \u001b[0mtol\u001b[0m \u001b[0;34m=\u001b[0m \u001b[0;36m1e-6\u001b[0m\u001b[0;34m)\u001b[0m\u001b[0;34m\u001b[0m\u001b[0;34m\u001b[0m\u001b[0m\n\u001b[1;32m     12\u001b[0m \u001b[0;31m#options = {'maxiter':4000}\u001b[0m\u001b[0;34m\u001b[0m\u001b[0;34m\u001b[0m\u001b[0;34m\u001b[0m\u001b[0m\n",
            "\u001b[0;32m<ipython-input-32-37f827e19c84>\u001b[0m in \u001b[0;36msquared_error\u001b[0;34m(par)\u001b[0m\n\u001b[1;32m    141\u001b[0m     \u001b[0mKis\u001b[0m \u001b[0;34m=\u001b[0m \u001b[0mpar\u001b[0m\u001b[0;34m[\u001b[0m\u001b[0;36m2\u001b[0m\u001b[0;34m]\u001b[0m\u001b[0;34m\u001b[0m\u001b[0;34m\u001b[0m\u001b[0m\n\u001b[1;32m    142\u001b[0m     \u001b[0mY_xs\u001b[0m \u001b[0;34m=\u001b[0m \u001b[0mpar\u001b[0m\u001b[0;34m[\u001b[0m\u001b[0;36m3\u001b[0m\u001b[0;34m]\u001b[0m\u001b[0;34m\u001b[0m\u001b[0;34m\u001b[0m\u001b[0m\n\u001b[0;32m--> 143\u001b[0;31m     \u001b[0mKd\u001b[0m \u001b[0;34m=\u001b[0m \u001b[0mpar\u001b[0m\u001b[0;34m[\u001b[0m\u001b[0;36m4\u001b[0m\u001b[0;34m]\u001b[0m\u001b[0;34m\u001b[0m\u001b[0;34m\u001b[0m\u001b[0m\n\u001b[0m\u001b[1;32m    144\u001b[0m \u001b[0;34m\u001b[0m\u001b[0m\n\u001b[1;32m    145\u001b[0m \u001b[0;34m\u001b[0m\u001b[0m\n",
            "\u001b[0;31mIndexError\u001b[0m: index 4 is out of bounds for axis 0 with size 4"
          ]
        }
      ]
    },
    {
      "cell_type": "code",
      "source": [
        "# Raw data taken from a spectrometer\n",
        "# The \"cells\" value is taken from literature\n",
        "\n",
        "time_growth = np.array([0, 1, 2, 3, 4, 5, 6, 7, 24]) # Times are in hours \n",
        "OD = np.array([0.202, 0.225, 0.341, 0.517, 0.771, 1.073, 1.341, 1.402, 1.754]) # OD600\n",
        "cells = OD*2000*1.5*10**7"
      ],
      "metadata": {
        "id": "BiJI2CT57hKj",
        "colab": {
          "base_uri": "https://localhost:8080/",
          "height": 235
        },
        "outputId": "43713ad7-6705-40e7-89e4-ec424e4c73c8"
      },
      "execution_count": 1,
      "outputs": [
        {
          "output_type": "error",
          "ename": "NameError",
          "evalue": "ignored",
          "traceback": [
            "\u001b[0;31m---------------------------------------------------------------------------\u001b[0m",
            "\u001b[0;31mNameError\u001b[0m                                 Traceback (most recent call last)",
            "\u001b[0;32m<ipython-input-1-773400a80aa0>\u001b[0m in \u001b[0;36m<module>\u001b[0;34m\u001b[0m\n\u001b[1;32m      2\u001b[0m \u001b[0;31m# The \"cells\" value is taken from literature\u001b[0m\u001b[0;34m\u001b[0m\u001b[0;34m\u001b[0m\u001b[0;34m\u001b[0m\u001b[0m\n\u001b[1;32m      3\u001b[0m \u001b[0;34m\u001b[0m\u001b[0m\n\u001b[0;32m----> 4\u001b[0;31m \u001b[0mtime_growth\u001b[0m \u001b[0;34m=\u001b[0m \u001b[0mnp\u001b[0m\u001b[0;34m.\u001b[0m\u001b[0marray\u001b[0m\u001b[0;34m(\u001b[0m\u001b[0;34m[\u001b[0m\u001b[0;36m0\u001b[0m\u001b[0;34m,\u001b[0m \u001b[0;36m1\u001b[0m\u001b[0;34m,\u001b[0m \u001b[0;36m2\u001b[0m\u001b[0;34m,\u001b[0m \u001b[0;36m3\u001b[0m\u001b[0;34m,\u001b[0m \u001b[0;36m4\u001b[0m\u001b[0;34m,\u001b[0m \u001b[0;36m5\u001b[0m\u001b[0;34m,\u001b[0m \u001b[0;36m6\u001b[0m\u001b[0;34m,\u001b[0m \u001b[0;36m7\u001b[0m\u001b[0;34m,\u001b[0m \u001b[0;36m24\u001b[0m\u001b[0;34m]\u001b[0m\u001b[0;34m)\u001b[0m \u001b[0;31m# Times are in hours\u001b[0m\u001b[0;34m\u001b[0m\u001b[0;34m\u001b[0m\u001b[0m\n\u001b[0m\u001b[1;32m      5\u001b[0m \u001b[0mOD\u001b[0m \u001b[0;34m=\u001b[0m \u001b[0mnp\u001b[0m\u001b[0;34m.\u001b[0m\u001b[0marray\u001b[0m\u001b[0;34m(\u001b[0m\u001b[0;34m[\u001b[0m\u001b[0;36m0.202\u001b[0m\u001b[0;34m,\u001b[0m \u001b[0;36m0.225\u001b[0m\u001b[0;34m,\u001b[0m \u001b[0;36m0.341\u001b[0m\u001b[0;34m,\u001b[0m \u001b[0;36m0.517\u001b[0m\u001b[0;34m,\u001b[0m \u001b[0;36m0.771\u001b[0m\u001b[0;34m,\u001b[0m \u001b[0;36m1.073\u001b[0m\u001b[0;34m,\u001b[0m \u001b[0;36m1.341\u001b[0m\u001b[0;34m,\u001b[0m \u001b[0;36m1.402\u001b[0m\u001b[0;34m,\u001b[0m \u001b[0;36m1.754\u001b[0m\u001b[0;34m]\u001b[0m\u001b[0;34m)\u001b[0m \u001b[0;31m# OD600\u001b[0m\u001b[0;34m\u001b[0m\u001b[0;34m\u001b[0m\u001b[0m\n\u001b[1;32m      6\u001b[0m \u001b[0mcells\u001b[0m \u001b[0;34m=\u001b[0m \u001b[0mOD\u001b[0m\u001b[0;34m*\u001b[0m\u001b[0;36m2000\u001b[0m\u001b[0;34m*\u001b[0m\u001b[0;36m1.5\u001b[0m\u001b[0;34m*\u001b[0m\u001b[0;36m10\u001b[0m\u001b[0;34m**\u001b[0m\u001b[0;36m7\u001b[0m\u001b[0;34m\u001b[0m\u001b[0;34m\u001b[0m\u001b[0m\n",
            "\u001b[0;31mNameError\u001b[0m: name 'np' is not defined"
          ]
        }
      ]
    },
    {
      "cell_type": "code",
      "source": [
        "# Just used to visualize the data \n",
        "#def monod_eq[um, Ks, Ysx, kd, time]:\n",
        "testpoints = monod_eq(6.48649907e+00, 2.05454913e+02, 2.87936960e+00, 2.31474291e+09, 24)\n",
        "plt.plot(testpoints['t'], testpoints['A'])\n",
        "plt.plot(time_growth, cells)\n",
        "#plt.ylim(0,0.5)\n",
        "# We were able to determine the acturate growth parameters but now lets go back and add a ton of datapoints"
      ],
      "metadata": {
        "colab": {
          "base_uri": "https://localhost:8080/",
          "height": 294
        },
        "id": "3RdFVvsy9cX7",
        "outputId": "909205b1-1101-40c8-9919-8c7f3c90440b"
      },
      "execution_count": null,
      "outputs": [
        {
          "output_type": "execute_result",
          "data": {
            "text/plain": [
              "[<matplotlib.lines.Line2D at 0x7f016b30d850>]"
            ]
          },
          "metadata": {},
          "execution_count": 19
        },
        {
          "output_type": "display_data",
          "data": {
            "text/plain": [
              "<Figure size 432x288 with 1 Axes>"
            ],
            "image/png": "[encoded data removed]"
          },
          "metadata": {
            "needs_background": "light"
          }
        }
      ]
    },
    {
      "cell_type": "code",
      "source": [
        "# This is to rewrite the HH:MM:SS time as time in hours so we can look at time in a plot \n",
        "\n",
        "t_actual = []\n",
        "\n",
        "def get_sec(time_str):\n",
        "    \n",
        "  for i in range(len(time_str)):\n",
        "    t = time.iloc[i].split(':')\n",
        "\n",
        "    h, m, s = t[0], t[1], t[2]\n",
        "\n",
        "    t_actual.append(int(h) + int(m) / 60 + int(s)/3600 - 0.33944444)\n",
        "  return t_actual\n",
        "\n",
        "t_actual = get_sec(time)\n"
      ],
      "metadata": {
        "id": "A6l_vXdU14M0"
      },
      "execution_count": null,
      "outputs": []
    },
    {
      "cell_type": "code",
      "source": [
        "# We need to find the inverse of the heat profile, setting the flat zones to zero \n",
        "zero = baseline_data.mean()\n",
        "inverse_curve = abs(zero.values - (temperature_output_trial_1).rolling(200).mean())\n",
        "growth_curve = np.cumsum(inverse_curve)\n",
        "\n",
        "plt.plot(inverse_curve)"
      ],
      "metadata": {
        "id": "CLEJ8MO6yJXy",
        "colab": {
          "base_uri": "https://localhost:8080/",
          "height": 283
        },
        "outputId": "b2d721f1-4368-4aec-c20b-7be2bcaf79b5"
      },
      "execution_count": null,
      "outputs": [
        {
          "output_type": "execute_result",
          "data": {
            "text/plain": [
              "[<matplotlib.lines.Line2D at 0x7f0169d0ce20>]"
            ]
          },
          "metadata": {},
          "execution_count": 63
        },
        {
          "output_type": "display_data",
          "data": {
            "text/plain": [
              "<Figure size 432x288 with 1 Axes>"
            ],
            "image/png": "[encoded data removed]"
          },
          "metadata": {
            "needs_background": "light"
          }
        }
      ]
    },
    {
      "cell_type": "code",
      "source": [
        "# So now we have to figure out how this correlates to heat\n",
        "# Remember that the goal is actually a black box model becuase things will change for each bioreactor \n",
        "# We want the amount of heat produced per cell produced\n",
        "# So what we can do is say that (dheat/dt) = area under the heat curve \n",
        "#                               cells = total amount of cells grown \n",
        "# And then we are interested in a = cells/heat generated \n",
        "# We can then roll this into differentials but the problem with that is that the bioreactor cant \n",
        "  # see the heat generated early on or later on too well \n",
        "# Will it be posible to predict a??     \n",
        "\n",
        "from scipy.integrate import simpson\n",
        "from numpy import trapz\n",
        "\n",
        "\n",
        "y_heat = inverse_curve['Unnamed: 8'][500:2010]\n",
        "x_heat = t_actual[500:2010]\n",
        "\n",
        "area_heat = trapz(y=y, x=x)\n",
        "print(\"(dheat/dt)=\", area_heat)\n",
        "\n",
        "\n",
        "cells_produced = cells[8] - cells[0]\n",
        "\n",
        "print(\"(dheat/dt)/(cells produced) =\", area_heat/cells_produced)\n",
        "\n",
        "\n"
      ],
      "metadata": {
        "colab": {
          "base_uri": "https://localhost:8080/"
        },
        "id": "2rq4DyXrT02h",
        "outputId": "e4c07fb3-96bf-44ac-8ee6-bb9e65508860"
      },
      "execution_count": null,
      "outputs": [
        {
          "output_type": "stream",
          "name": "stdout",
          "text": [
            "(dheat/dt)= 1.9925493965928425\n",
            "(dheat/dt)/(cells produced) = 4.279530490964009e-11\n"
          ]
        }
      ]
    },
    {
      "cell_type": "code",
      "source": [
        "\n",
        "\n",
        "fig, ax1 = plt.subplots()\n",
        "\n",
        "ax2 = ax1.twinx()\n",
        "ax1.plot(t_actual[200:2410], growth_curve[200:2410], 'g-')\n",
        "ax2.plot(time_growth, cells, 'b-')\n",
        "\n",
        "ax1.set_xlabel('Time (Hours)')\n",
        "ax1.set_ylabel('Heat Added (Units undefined)', color='g')\n",
        "ax2.set_ylabel('Optical Density', color='b')\n",
        "plt.title(\"Trial 1\")\n",
        "\n"
      ],
      "metadata": {
        "colab": {
          "base_uri": "https://localhost:8080/",
          "height": 313
        },
        "id": "hniEnzWOG45T",
        "outputId": "de643a89-cd2d-4605-dabf-9f901cf7c2c8"
      },
      "execution_count": null,
      "outputs": [
        {
          "output_type": "execute_result",
          "data": {
            "text/plain": [
              "Text(0.5, 1.0, 'Trial 1')"
            ]
          },
          "metadata": {},
          "execution_count": 22
        },
        {
          "output_type": "display_data",
          "data": {
            "text/plain": [
              "<Figure size 432x288 with 2 Axes>"
            ],
            "image/png": "[encoded data removed]"
          },
          "metadata": {
            "needs_background": "light"
          }
        }
      ]
    },
    {
      "cell_type": "code",
      "source": [],
      "metadata": {
        "id": "JT2AoAiqUlXl"
      },
      "execution_count": null,
      "outputs": []
    },
    {
      "cell_type": "code",
      "source": [
        "trial_1_clean = testpoints['t']\n",
        "trial_1_clean = pd.DataFrame(trial_1_clean)\n",
        "trial_1_clean['Cell Count'] = testpoints['A']\n",
        "trial_1_clean['Heat Profile'] = temperature_output_trial_1['Unnamed: 8']\n",
        "trial_1_clean.to_csv('trial_1_clean.csv')\n",
        "download = files.download('trial_1_clean.csv')"
      ],
      "metadata": {
        "colab": {
          "base_uri": "https://localhost:8080/",
          "height": 17
        },
        "id": "z1MsszOnEJv_",
        "outputId": "69f9d2d5-7e1f-4796-a6eb-881adec1d50f"
      },
      "execution_count": null,
      "outputs": [
        {
          "output_type": "display_data",
          "data": {
            "text/plain": [
              "<IPython.core.display.Javascript object>"
            ],
            "application/javascript": [
              "\n",
              "    async function download(id, filename, size) {\n",
              "      if (!google.colab.kernel.accessAllowed) {\n",
              "        return;\n",
              "      }\n",
              "      const div = document.createElement('div');\n",
              "      const label = document.createElement('label');\n",
              "      label.textContent = `Downloading \"${filename}\": `;\n",
              "      div.appendChild(label);\n",
              "      const progress = document.createElement('progress');\n",
              "      progress.max = size;\n",
              "      div.appendChild(progress);\n",
              "      document.body.appendChild(div);\n",
              "\n",
              "      const buffers = [];\n",
              "      let downloaded = 0;\n",
              "\n",
              "      const channel = await google.colab.kernel.comms.open(id);\n",
              "      // Send a message to notify the kernel that we're ready.\n",
              "      channel.send({})\n",
              "\n",
              "      for await (const message of channel.messages) {\n",
              "        // Send a message to notify the kernel that we're ready.\n",
              "        channel.send({})\n",
              "        if (message.buffers) {\n",
              "          for (const buffer of message.buffers) {\n",
              "            buffers.push(buffer);\n",
              "            downloaded += buffer.byteLength;\n",
              "            progress.value = downloaded;\n",
              "          }\n",
              "        }\n",
              "      }\n",
              "      const blob = new Blob(buffers, {type: 'application/binary'});\n",
              "      const a = document.createElement('a');\n",
              "      a.href = window.URL.createObjectURL(blob);\n",
              "      a.download = filename;\n",
              "      div.appendChild(a);\n",
              "      a.click();\n",
              "      div.remove();\n",
              "    }\n",
              "  "
            ]
          },
          "metadata": {}
        },
        {
          "output_type": "display_data",
          "data": {
            "text/plain": [
              "<IPython.core.display.Javascript object>"
            ],
            "application/javascript": [
              "download(\"download_b5080477-c6e6-48db-9893-f6937800a436\", \"trial_1_clean.csv\", 65)"
            ]
          },
          "metadata": {}
        }
      ]
    },
    {
      "cell_type": "code",
      "source": [],
      "metadata": {
        "id": "w--jA34vEQSq"
      },
      "execution_count": null,
      "outputs": []
    }
  ]
}